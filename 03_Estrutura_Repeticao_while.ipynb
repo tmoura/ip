{
  "nbformat": 4,
  "nbformat_minor": 0,
  "metadata": {
    "colab": {
      "name": "03-Estrutura_Repeticao-while.ipynb",
      "provenance": [],
      "authorship_tag": "ABX9TyPFqM0VhzXSeT/Mi9Z93aYa",
      "include_colab_link": true
    },
    "kernelspec": {
      "name": "python3",
      "display_name": "Python 3"
    }
  },
  "cells": [
    {
      "cell_type": "markdown",
      "metadata": {
        "id": "view-in-github",
        "colab_type": "text"
      },
      "source": [
        "<a href=\"https://colab.research.google.com/github/tmoura/ip/blob/master/03_Estrutura_Repeticao_while.ipynb\" target=\"_parent\"><img src=\"https://colab.research.google.com/assets/colab-badge.svg\" alt=\"Open In Colab\"/></a>"
      ]
    },
    {
      "cell_type": "code",
      "metadata": {
        "id": "O-VA0grv29Vc",
        "colab_type": "code",
        "colab": {}
      },
      "source": [
        "#####################\n",
        "#\n",
        "# WHILE\n",
        "#\n",
        "#####################\n",
        "n = input('Informe um número: ')\n",
        "\n",
        "n = int(n)\n",
        "\n",
        "while (n != 0):\n",
        "  print('O dobro de', n, \"=\", 2 * n)\n",
        "  \n",
        "  n = input('Informe um número: ')\n",
        "\n",
        "  n = int(n)\n",
        "\n",
        "print('O usuario digitou o zero')\n",
        "print('O programa terminou')\n",
        "  \n",
        "# ATENÇÃO: Cuidado com os : (dois pontos)"
      ],
      "execution_count": 0,
      "outputs": []
    },
    {
      "cell_type": "code",
      "metadata": {
        "id": "GA4OS7s63FVo",
        "colab_type": "code",
        "colab": {}
      },
      "source": [
        "#############\n",
        "# Escreva um programa que leia vários números e diga qual é o maior e o menor.\n",
        "# A entrada do ZERO encerra o programa.\n",
        "#############"
      ],
      "execution_count": 0,
      "outputs": []
    },
    {
      "cell_type": "code",
      "metadata": {
        "id": "BlMqc1gH4Zhs",
        "colab_type": "code",
        "colab": {}
      },
      "source": [
        "#############\n",
        "#  Faça um programa que leia um número inteiro e determine se ele é par ou ímpar. Ao final, o\n",
        "# programa deve perguntar se o usuário deseja continuar (digitar outro número) ou sair. Se o usuário\n",
        "# quiser continuar, o programa deve repetir tudo de novo, caso contrário o programa deve ser\n",
        "# encerrado.\n",
        "#############"
      ],
      "execution_count": 0,
      "outputs": []
    },
    {
      "cell_type": "code",
      "metadata": {
        "id": "3UyiDTWo3HTm",
        "colab_type": "code",
        "colab": {}
      },
      "source": [
        "#####################\n",
        "#\n",
        "# WHILE-ELSE\n",
        "#\n",
        "#####################\n",
        "\n",
        "n = input('Informe um número: ')\n",
        "\n",
        "n = int(n)\n",
        "\n",
        "while (n != 0):\n",
        "  print('O dobro de', n, \"=\", 2 * n)\n",
        "  n = input('Informe um número: ')\n",
        "  n = int(n)\n",
        "else:\n",
        "  print('O usuario digitou o zero')\n",
        "\n",
        "print('O programa terminou')\n",
        "  \n",
        "# ATENÇÃO: Cuidado com os : (dois pontos)"
      ],
      "execution_count": 0,
      "outputs": []
    }
  ]
}