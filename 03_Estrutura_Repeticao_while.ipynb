{
  "nbformat": 4,
  "nbformat_minor": 0,
  "metadata": {
    "colab": {
      "name": "03-Estrutura_Repeticao-while.ipynb",
      "provenance": [],
      "authorship_tag": "ABX9TyOm+fu1jb3s6TfRUD/RzWP9",
      "include_colab_link": true
    },
    "kernelspec": {
      "name": "python3",
      "display_name": "Python 3"
    }
  },
  "cells": [
    {
      "cell_type": "markdown",
      "metadata": {
        "id": "view-in-github",
        "colab_type": "text"
      },
      "source": [
        "<a href=\"https://colab.research.google.com/github/tmoura/ip/blob/master/03_Estrutura_Repeticao_while.ipynb\" target=\"_parent\"><img src=\"https://colab.research.google.com/assets/colab-badge.svg\" alt=\"Open In Colab\"/></a>"
      ]
    },
    {
      "cell_type": "code",
      "metadata": {
        "id": "O-VA0grv29Vc",
        "colab_type": "code",
        "colab": {}
      },
      "source": [
        "#####################\n",
        "#\n",
        "# WHILE\n",
        "#\n",
        "#####################\n",
        "n = input('Informe um número: ')\n",
        "\n",
        "n = int(n)\n",
        "\n",
        "while (n != 0):\n",
        "  print('O dobro de', n, \"=\", 2 * n)\n",
        "  \n",
        "  n = input('Informe um número: ')\n",
        "\n",
        "  n = int(n)\n",
        "\n",
        "print('O usuario digitou o zero')\n",
        "print('O programa terminou')\n",
        "  \n",
        "# ATENÇÃO: Cuidado com os : (dois pontos)"
      ],
      "execution_count": 0,
      "outputs": []
    },
    {
      "cell_type": "code",
      "metadata": {
        "id": "GA4OS7s63FVo",
        "colab_type": "code",
        "colab": {}
      },
      "source": [
        "#############\n",
        "# Escreva um programa que leia vários números e diga qual é o maior e o menor.\n",
        "# A entrada do ZERO encerra o programa.\n",
        "#############"
      ],
      "execution_count": 0,
      "outputs": []
    },
    {
      "cell_type": "code",
      "metadata": {
        "id": "BlMqc1gH4Zhs",
        "colab_type": "code",
        "colab": {}
      },
      "source": [
        "#############\n",
        "#  Faça um programa que leia um número inteiro e determine se ele é par ou ímpar. Ao final, o\n",
        "# programa deve perguntar se o usuário deseja continuar (digitar outro número) ou sair. Se o usuário\n",
        "# quiser continuar, o programa deve repetir tudo de novo, caso contrário o programa deve ser\n",
        "# encerrado.\n",
        "#############"
      ],
      "execution_count": 0,
      "outputs": []
    },
    {
      "cell_type": "code",
      "metadata": {
        "id": "3UyiDTWo3HTm",
        "colab_type": "code",
        "colab": {}
      },
      "source": [
        "#####################\n",
        "#\n",
        "# WHILE-ELSE\n",
        "#\n",
        "#####################\n",
        "\n",
        "n = input('Informe um número: ')\n",
        "\n",
        "n = int(n)\n",
        "\n",
        "while (n != 0):\n",
        "  print('O dobro de', n, \"=\", 2 * n)\n",
        "  n = input('Informe um número: ')\n",
        "  n = int(n)\n",
        "else:\n",
        "  print('O usuario digitou o zero')\n",
        "\n",
        "print('O programa terminou')\n",
        "  \n",
        "# ATENÇÃO: Cuidado com os : (dois pontos)"
      ],
      "execution_count": 0,
      "outputs": []
    },
    {
      "cell_type": "code",
      "metadata": {
        "id": "ARcl4hJKn6S3",
        "colab_type": "code",
        "colab": {}
      },
      "source": [
        "#############\n",
        "# Escreva um programa que leia os seguintes dados de um conjunto de alunos: matrícula, nome e as\n",
        "# duas notas que ele obteve em suas avaliações. A condição de parada será a digitação de uma\n",
        "# matrícula igual 0 (zero). O programa deverá mostrar, para cada aluno, as seguintes informações:\n",
        "# matrícula, nome, média e situação (aprovado, se a média for igual ou superior a 7 e, reprovado, se a\n",
        "# média for inferior a 7).\n",
        "#############"
      ],
      "execution_count": 0,
      "outputs": []
    },
    {
      "cell_type": "code",
      "metadata": {
        "id": "hxfNGQrnoZoY",
        "colab_type": "code",
        "colab": {}
      },
      "source": [
        "#############\n",
        "# Foi feita uma pesquisa de audiência de canal de TV em várias casas de uma certa cidade, num\n",
        "# determinado dia. Para cada casa visitada, é fornecido o número do canal (5, 7, 10 ou 12) e o número\n",
        "# de pessoas que o estavam assistindo naquela casa. Faça um programa que:\n",
        "#\n",
        "# a) leia um número indeterminado de dados, sendo que o flag corresponde ao canal igual a 0\n",
        "# (zero);\n",
        "#\n",
        "# b) calcule e escreva a porcentagem de audiência de cada emissora.\n",
        "#############"
      ],
      "execution_count": 0,
      "outputs": []
    },
    {
      "cell_type": "code",
      "metadata": {
        "id": "mwHQxsKIootp",
        "colab_type": "code",
        "colab": {}
      },
      "source": [
        "#############\n",
        "# Escreva um programa que acompanhe um set de uma partida de vôlei. O programa deve ler o\n",
        "# código da equipe (A ou B) que ganhou o ponto e responder quem ganha a partida. A partida\n",
        "# chega ao final se uma das equipes chega a 21 pontos e a diferença de pontos entre elas é maior\n",
        "# ou igual a dois. Ganha a equipe com 21 pontos ou mais e que consiga colocar uma vantagem de\n",
        "# dois pontos sobre a equipe adversária.\n",
        "#############"
      ],
      "execution_count": 0,
      "outputs": []
    },
    {
      "cell_type": "code",
      "metadata": {
        "id": "gvIywsDBo185",
        "colab_type": "code",
        "colab": {}
      },
      "source": [
        "#############\n",
        "# Faça um programa que apresente o menu de opções abaixo:\n",
        "# OPÇÕES:\n",
        "# 1 - SAUDAÇÃO\n",
        "# 2 - BRONCA\n",
        "# 3 - FELICITAÇÃO\n",
        "# 0 - FIM\n",
        "# O programa deve ler a opção do usuário e exibir, para cada opção, a respectiva mensagem:\n",
        "#\n",
        "# 1 - Olá. Como vai?\n",
        "# 2 - Vamos estudar mais.\n",
        "# 3 - Meus Parabéns!\n",
        "# 0 - Fim de serviço.\n",
        "#\n",
        "# Enquanto a opção for diferente de 0(zero) deve-se continuar apresentando o menu de opções.\n",
        "#############"
      ],
      "execution_count": 0,
      "outputs": []
    }
  ]
}