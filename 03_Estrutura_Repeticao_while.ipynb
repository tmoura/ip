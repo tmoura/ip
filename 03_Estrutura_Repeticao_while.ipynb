{
  "nbformat": 4,
  "nbformat_minor": 0,
  "metadata": {
    "colab": {
      "name": "03-Estrutura_Repeticao-while.ipynb",
      "provenance": [],
      "authorship_tag": "ABX9TyOernII9I0ICsVHtneA7ttu",
      "include_colab_link": true
    },
    "kernelspec": {
      "name": "python3",
      "display_name": "Python 3"
    }
  },
  "cells": [
    {
      "cell_type": "markdown",
      "metadata": {
        "id": "view-in-github",
        "colab_type": "text"
      },
      "source": [
        "<a href=\"https://colab.research.google.com/github/tmoura/ip/blob/master/03_Estrutura_Repeticao_while.ipynb\" target=\"_parent\"><img src=\"https://colab.research.google.com/assets/colab-badge.svg\" alt=\"Open In Colab\"/></a>"
      ]
    },
    {
      "cell_type": "code",
      "metadata": {
        "id": "O-VA0grv29Vc",
        "colab_type": "code",
        "colab": {}
      },
      "source": [
        "#####################\n",
        "#\n",
        "# WHILE\n",
        "#\n",
        "#####################\n",
        "n = input('Informe um número: ')\n",
        "\n",
        "n = int(n)\n",
        "\n",
        "while (n != 0):\n",
        "  print('O dobro de', n, \"=\", 2 * n)\n",
        "  \n",
        "  n = input('Informe um número: ')\n",
        "\n",
        "  n = int(n)\n",
        "\n",
        "print('O usuario digitou o zero')\n",
        "print('O programa terminou')\n",
        "  \n",
        "# ATENÇÃO: Cuidado com os : (dois pontos)"
      ],
      "execution_count": 0,
      "outputs": []
    },
    {
      "cell_type": "code",
      "metadata": {
        "id": "GA4OS7s63FVo",
        "colab_type": "code",
        "colab": {}
      },
      "source": [
        "#############\n",
        "# Escreva um programa que leia vários números e diga qual é o maior e o menor.\n",
        "# A entrada do ZERO encerra o programa.\n",
        "#############\n",
        "numero = int(input('Digite um número:'))\n",
        "\n",
        "if numero == 0:\n",
        "  print('Programa encerrado')\n",
        "else:\n",
        "  maior = numero\n",
        "  menor = numero\n",
        "\n",
        "  while numero != 0:\n",
        "    if numero > maior:\n",
        "      maior = numero\n",
        "    if numero < menor:\n",
        "      menor = numero\n",
        "    \n",
        "    numero = int(input('Digite um número:'))\n",
        "\n",
        "\n",
        "  print('O maior número foi:',maior)\n",
        "  print('O menor número foi:',menor)"
      ],
      "execution_count": 0,
      "outputs": []
    },
    {
      "cell_type": "code",
      "metadata": {
        "id": "BlMqc1gH4Zhs",
        "colab_type": "code",
        "colab": {}
      },
      "source": [
        "#############\n",
        "#  Faça um programa que leia um número inteiro e determine se ele é par ou ímpar. Ao final, o\n",
        "# programa deve perguntar se o usuário deseja continuar (digitar outro número) ou sair. Se o usuário\n",
        "# quiser continuar, o programa deve repetir tudo de novo, caso contrário o programa deve ser\n",
        "# encerrado.\n",
        "#############\n",
        "\n",
        "opcao = input('Deseja continuar S ou N')\n",
        "\n",
        "while opcao == 'S':\n",
        "  numero = int(input('Digite um número:'))\n",
        "\n",
        "  if numero % 2 == 0:\n",
        "    print('O número é par')\n",
        "  else:\n",
        "    print('O número é ímpar')\n",
        "\n",
        "  opcao = input('Deseja continuar S ou N')"
      ],
      "execution_count": 0,
      "outputs": []
    },
    {
      "cell_type": "code",
      "metadata": {
        "id": "3UyiDTWo3HTm",
        "colab_type": "code",
        "colab": {}
      },
      "source": [
        "#####################\n",
        "#\n",
        "# WHILE-ELSE\n",
        "#\n",
        "#####################\n",
        "\n",
        "n = input('Informe um número: ')\n",
        "\n",
        "n = int(n)\n",
        "\n",
        "while (n != 0):\n",
        "  print('O dobro de', n, \"=\", 2 * n)\n",
        "  n = input('Informe um número: ')\n",
        "  n = int(n)\n",
        "else:\n",
        "  print('O usuario digitou o zero')\n",
        "\n",
        "print('O programa terminou')\n",
        "  \n",
        "# ATENÇÃO: Cuidado com os : (dois pontos)"
      ],
      "execution_count": 0,
      "outputs": []
    },
    {
      "cell_type": "code",
      "metadata": {
        "id": "ARcl4hJKn6S3",
        "colab_type": "code",
        "colab": {}
      },
      "source": [
        "#############\n",
        "# Escreva um programa que leia os seguintes dados de um conjunto de alunos: matrícula, nome e as\n",
        "# duas notas que ele obteve em suas avaliações. A condição de parada será a digitação de uma\n",
        "# matrícula igual 0 (zero). O programa deverá mostrar, para cada aluno, as seguintes informações:\n",
        "# matrícula, nome, média e situação (aprovado, se a média for igual ou superior a 7 e, reprovado, se a\n",
        "# média for inferior a 7).\n",
        "#############\n",
        "\n",
        "matricula = input('Digite a matrícula:')\n",
        "\n",
        "if matricula == '0':\n",
        "  print('Programa encerrado')\n",
        "else:\n",
        "  while matricula != '0':\n",
        "    nome = input('Digite o nome do aluno:')\n",
        "    nota1 = int(input('Nota 1:'))\n",
        "    nota2 = int(input('Nota 2:'))\n",
        "\n",
        "    media = (nota1 + nota2)/2\n",
        "    \n",
        "    if (media >= 7):\n",
        "      situacao = 'Aprovado'\n",
        "    else:\n",
        "      situacao = 'Reprovado'\n",
        "    \n",
        "    print('Nome: {} \\nMatrícula: {} \\nMédia: {} \\nSituação: {}'.format(nome,matricula,media,situacao))\n",
        "    matricula = input('Digite a matrícula:')\n",
        "  \n",
        "  print('Programa encerrado')\n"
      ],
      "execution_count": 0,
      "outputs": []
    },
    {
      "cell_type": "code",
      "metadata": {
        "id": "hxfNGQrnoZoY",
        "colab_type": "code",
        "colab": {}
      },
      "source": [
        "#############\n",
        "# Foi feita uma pesquisa de audiência de canal de TV em várias casas de uma certa cidade, num\n",
        "# determinado dia. Para cada casa visitada, é fornecido o número do canal (5, 7, 10 ou 12) e o número\n",
        "# de pessoas que o estavam assistindo naquela casa. Faça um programa que:\n",
        "#\n",
        "# a) leia um número indeterminado de dados, sendo que o flag corresponde ao canal igual a 0\n",
        "# (zero);\n",
        "#\n",
        "# b) calcule e escreva a porcentagem de audiência de cada emissora.\n",
        "#############\n",
        "\n",
        "c5 = 0\n",
        "c7 = 0\n",
        "c10 = 0\n",
        "c12 = 0\n",
        "\n",
        "canal = int(input('Digite o canal que vc assiste:'))\n",
        "\n",
        "while canal != 0:\n",
        "  pessoas = int(input('Quantas pessoas assistem o canal?'))\n",
        "  \n",
        "  if canal == 5:\n",
        "    c5 += pessoas\n",
        "  elif canal == 7:\n",
        "    c7 += pessoas\n",
        "  elif canal == 10:\n",
        "    c10 += pessoas\n",
        "  elif canal == 12:\n",
        "    c12 += pessoas\n",
        "  else:\n",
        "    print('Canal inexistente')\n",
        "\n",
        "  canal = int(input('Digite o canal que vc assiste:'))\n",
        "\n",
        "total = c5 + c7 + c10 + c12\n",
        "\n",
        "print('Percentual canal 5:',c5/total * 100,'%')\n",
        "print('Percentual canal 7:',c7/total * 100,'%')\n",
        "print('Percentual canal 10:',c10/total * 100,'%')\n",
        "print('Percentual canal 12:',c12/total * 100,'%')\n"
      ],
      "execution_count": 0,
      "outputs": []
    },
    {
      "cell_type": "code",
      "metadata": {
        "id": "mwHQxsKIootp",
        "colab_type": "code",
        "colab": {}
      },
      "source": [
        "#############\n",
        "# Escreva um programa que acompanhe um set de uma partida de vôlei. O programa deve ler o\n",
        "# código da equipe (A ou B) que ganhou o ponto e responder quem ganha a partida. A partida\n",
        "# chega ao final se uma das equipes chega a 21 pontos e a diferença de pontos entre elas é maior\n",
        "# ou igual a dois. Ganha a equipe com 21 pontos ou mais e que consiga colocar uma vantagem de\n",
        "# dois pontos sobre a equipe adversária.\n",
        "#############"
      ],
      "execution_count": 0,
      "outputs": []
    },
    {
      "cell_type": "code",
      "metadata": {
        "id": "gvIywsDBo185",
        "colab_type": "code",
        "colab": {}
      },
      "source": [
        "#############\n",
        "# Faça um programa que apresente o menu de opções abaixo:\n",
        "# OPÇÕES:\n",
        "# 1 - SAUDAÇÃO\n",
        "# 2 - BRONCA\n",
        "# 3 - FELICITAÇÃO\n",
        "# 0 - FIM\n",
        "# O programa deve ler a opção do usuário e exibir, para cada opção, a respectiva mensagem:\n",
        "#\n",
        "# 1 - Olá. Como vai?\n",
        "# 2 - Vamos estudar mais.\n",
        "# 3 - Meus Parabéns!\n",
        "# 0 - Fim de serviço.\n",
        "#\n",
        "# Enquanto a opção for diferente de 0(zero) deve-se continuar apresentando o menu de opções.\n",
        "#############"
      ],
      "execution_count": 0,
      "outputs": []
    }
  ]
}