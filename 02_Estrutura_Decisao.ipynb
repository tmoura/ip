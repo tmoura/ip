{
  "nbformat": 4,
  "nbformat_minor": 0,
  "metadata": {
    "colab": {
      "name": "02-Estrutura_Decisao",
      "provenance": [],
      "include_colab_link": true
    },
    "kernelspec": {
      "name": "python3",
      "display_name": "Python 3"
    }
  },
  "cells": [
    {
      "cell_type": "markdown",
      "metadata": {
        "id": "view-in-github",
        "colab_type": "text"
      },
      "source": [
        "<a href=\"https://colab.research.google.com/github/tmoura/ip/blob/master/02_Estrutura_Decisao.ipynb\" target=\"_parent\"><img src=\"https://colab.research.google.com/assets/colab-badge.svg\" alt=\"Open In Colab\"/></a>"
      ]
    },
    {
      "cell_type": "code",
      "metadata": {
        "id": "BBuniiUntrvd",
        "colab_type": "code",
        "colab": {}
      },
      "source": [
        "nota = 8\n",
        "\n",
        "############\n",
        "# IF-ELSE\n",
        "############\n",
        "\n",
        "if (nota >= 7):\n",
        "  print('Aprovado')\n",
        "else:\n",
        "  print('Reprovado')\n",
        "  \n",
        "### ATENÇÃO: CUIDADO COM OS : (dois pontos)"
      ],
      "execution_count": 0,
      "outputs": []
    },
    {
      "cell_type": "code",
      "metadata": {
        "id": "IXbJrPYoujdE",
        "colab_type": "code",
        "colab": {}
      },
      "source": [
        "##############\n",
        "# IF-ELSE aninhado\n",
        "##############\n",
        "\n",
        "nota = 4\n",
        "\n",
        "if (nota >= 7):\n",
        "  print('Aprovado')\n",
        "else:\n",
        "  if (nota >= 4):\n",
        "    print('Final')\n",
        "  else:\n",
        "    print('Reprovado')"
      ],
      "execution_count": 0,
      "outputs": []
    },
    {
      "cell_type": "code",
      "metadata": {
        "id": "0ICabXFRu_YB",
        "colab_type": "code",
        "colab": {}
      },
      "source": [
        "##############\n",
        "# IF-ELIF-ELSE\n",
        "##############\n",
        "\n",
        "nota = 4\n",
        "\n",
        "if (nota >= 7):\n",
        "  print('Aprovado')\n",
        "elif (nota >= 4):\n",
        "  print('Final')\n",
        "else:\n",
        "  print('Reprovado')"
      ],
      "execution_count": 0,
      "outputs": []
    },
    {
      "cell_type": "code",
      "metadata": {
        "id": "qawhMap3yeV2",
        "colab_type": "code",
        "colab": {}
      },
      "source": [
        "###############\n",
        "#\n",
        "# Escreva um programa que leia um número do teclado e diga se ele é par ou ímpar\n",
        "#\n",
        "###############\n",
        "\n",
        "numero = int(input('Digite um número:'))\n",
        "\n",
        "if numero % 2 == 0:\n",
        "  print('O número é par')\n",
        "else:\n",
        "  print('O número é ímpar')"
      ],
      "execution_count": 0,
      "outputs": []
    },
    {
      "cell_type": "code",
      "metadata": {
        "id": "ueRylowf2huB",
        "colab_type": "code",
        "colab": {}
      },
      "source": [
        "###############\n",
        "#\n",
        "# Escreva um programa que leia três números do teclado e \n",
        "# verifique qual é o maior dos três.\n",
        "#\n",
        "###############\n",
        "\n",
        "n1 = int(input('Digite um número:'))\n",
        "n2 = int(input('Digite um número:'))\n",
        "n3 = int(input('Digite um número:'))\n",
        "\n",
        "maior  = n1\n",
        "\n",
        "if n2 > maior:\n",
        "  maior = n2\n",
        "\n",
        "if n3 > maior:\n",
        "  maior = n3\n",
        "\n",
        "print('O maior número é:',maior)"
      ],
      "execution_count": 0,
      "outputs": []
    },
    {
      "cell_type": "code",
      "metadata": {
        "id": "S654YGfA1y-T",
        "colab_type": "code",
        "colab": {}
      },
      "source": [
        "###############\n",
        "#\n",
        "# Escreva um programa que leia a idade de um nadador e classifique-o em uma das seguintes\n",
        "# categorias:\n",
        "# a) infantil A = 5 a 7 anos\n",
        "# b) infantil B = 8 a 10 anos\n",
        "# c) juvenil A = 11 a 13 anos\n",
        "# d) juvenil B = 14 a 17 anos\n",
        "# e) adulto = maiores de 18 anos\n",
        "#\n",
        "###############\n",
        "\n",
        "idade = int(input('Qual a sua idade:'))\n",
        "\n",
        "if idade >= 5 and idade <= 7:\n",
        "  print('Infantil A')\n",
        "elif idade >= 8 and idade <= 10:\n",
        "  print('Infantil B')\n",
        "elif idade >= 11 and idade <= 13:\n",
        "  print('Juvenil A')\n",
        "elif idade >= 14 and idade <= 17:\n",
        "  print('Juvenil B')\n",
        "else:\n",
        "  print('Adulto')"
      ],
      "execution_count": 0,
      "outputs": []
    },
    {
      "cell_type": "code",
      "metadata": {
        "id": "fAdc4TFF1zb9",
        "colab_type": "code",
        "colab": {}
      },
      "source": [
        "###############\n",
        "#\n",
        "# Escreva um programa que leia o peso e a altura de uma pessoa, determine e mostre o seu grau de\n",
        "# obesidade, de acordo com a tabela seguinte. O grau de obesidade é determinado pelo índice de\n",
        "# massa corpórea, cujo cálculo é realizado dividindo-se o peso da pessoa pelo quadrado da sua\n",
        "# altura.\n",
        "#\n",
        "# MASSA < 26, OBESIDADE = Normal\n",
        "# MASSA >= 26 e MASSA < 30, OBESIDADE = Obeso\n",
        "# MASSA >= 30, OBESIDADE = Obeso Mórbido\n",
        "###############\n",
        "\n",
        "peso = int(input('Digite o peso:'))\n",
        "altura = float(input('Digite a altura:'))\n",
        "\n",
        "massa  = peso / (altura ** 2)\n",
        "print('Sua massa foi de:', massa)\n",
        "\n",
        "if massa < 26:\n",
        "  print('Normal')\n",
        "elif massa >= 26 and massa < 30:\n",
        "  print('Obeso')\n",
        "else:\n",
        "  print('Obeso Mórbido')"
      ],
      "execution_count": 0,
      "outputs": []
    },
    {
      "cell_type": "code",
      "metadata": {
        "id": "BEm98l3_1zot",
        "colab_type": "code",
        "colab": {}
      },
      "source": [
        "###############\n",
        "#\n",
        "# Faça um programa que leia a altura e o sexo (M-masculino, F-feminino) de uma pessoa,\n",
        "# calcule e mostre o seu peso ideal, utilizando uma das seguintes fórmulas:\n",
        "#\n",
        "# para homens: (72.7 * altura) - 58.0\n",
        "# para mulheres: (62.1 * altura) - 44.7\n",
        "###############\n",
        "altura = float(input('Digite a altura:'))\n",
        "sexo = input('Digite M ou F:')   ## Aqui não faz conversão de tipos. O valor lido já será String\n",
        "\n",
        "if sexo == 'M':\n",
        "  ideal = (72.7 * altura) - 58.0\n",
        "else:\n",
        "  ideal = (62.1 * altura) - 44.7\n",
        "\n",
        "print('Seu peso ideal é:',ideal)\n"
      ],
      "execution_count": 0,
      "outputs": []
    },
    {
      "cell_type": "code",
      "metadata": {
        "id": "X9DW9DDe1zze",
        "colab_type": "code",
        "colab": {}
      },
      "source": [
        "###############\n",
        "#\n",
        "# Escreva um programa que tenha a funcionalidade de uma calculadora simples. O programa\n",
        "# deve solicitar a digitação de dois operandos e um operador (+ - x * / %) e deve imprimir ao\n",
        "# resultado da operação aritmética. Caso o usuário digite um operador inválido, o programa\n",
        "# deve imprimir \"Operador desconhecido\".\n",
        "###############\n",
        "\n",
        "op = input('Digite a sua operação: +, -, *, /, %')\n",
        "n1 = float(input('Digite um número:'))\n",
        "n2 = float(input('Digite outro número:'))\n",
        "\n",
        "if op == '+':\n",
        "  print('O resultado foi:',n1 + n2)\n",
        "elif op == '-':\n",
        "  print('O resultado foi:',n1 - n2)\n",
        "elif op == '*':\n",
        "  print('O resultado foi:',n1 * n2)\n",
        "elif op == '/':\n",
        "  print('O resultado foi:',n1 / n2)\n",
        "elif op == '%':\n",
        "  print('O resultado foi:',n1 % n2)\n",
        "else:\n",
        "  print('Operador desconhecido')"
      ],
      "execution_count": 0,
      "outputs": []
    },
    {
      "cell_type": "code",
      "metadata": {
        "id": "e3Muw_Fn3sME",
        "colab_type": "code",
        "colab": {}
      },
      "source": [
        "###############\n",
        "#\n",
        "# Escreva um programa que leia quatro notas e imprima a média obtida, desprezando a nota\n",
        "# mais baixa\n",
        "###############\n",
        "n1 = float(input('Digite uma nota:'))\n",
        "n2 = float(input('Digite uma nota:'))\n",
        "n3 = float(input('Digite uma nota:'))\n",
        "n4 = float(input('Digite uma nota:'))\n",
        "\n",
        "menor = n1 # guarda-se a primeira nota como a menor para compararmos com o restante\n",
        "\n",
        "if n2 < menor:\n",
        "  menor = n2\n",
        "\n",
        "if n3 < menor:\n",
        "  menor = n3\n",
        "\n",
        "if n4 < menor:\n",
        "  menor = n4\n",
        "\n",
        "media = ((n1 + n2 + n3 + n4) - menor) / 3\n",
        "\n",
        "print('A média das maiores notas foi:',media)"
      ],
      "execution_count": 0,
      "outputs": []
    },
    {
      "cell_type": "code",
      "metadata": {
        "id": "WUAYppZVvJrP",
        "colab_type": "code",
        "colab": {}
      },
      "source": [
        "###############\n",
        "#\n",
        "# Um banco concederá um crédito especial aos seus clientes, de acordo com o saldo médio de cada\n",
        "# cliente no último ano. Escreva um programa que leia o nome e o saldo médio de um cliente e\n",
        "# calcule o valor do crédito de acordo com a tabela abaixo.\n",
        "#\n",
        "# Saldo Médio de 0 a 200 ==> Nenhum crédito\n",
        "# Saldo Médio de 201 a 400 ==> 20% a mais no saldo\n",
        "# Saldo Médio de 401 a 600 ==> 30% a mais no saldo\n",
        "# Saldo Médio acima de 601 ==> 40% a mais no saldo\n",
        "###############\n",
        "nome = input('Digite o seu nome:')\n",
        "saldo = float(input('Digite o saldo médio:'))\n",
        "\n",
        "if saldo >= 0 and saldo <= 200:\n",
        "  saldo *= 1\n",
        "elif saldo >= 201 and saldo <= 400:\n",
        "  saldo *= 1.2\n",
        "elif saldo >= 401 and saldo <= 600:\n",
        "  saldo *= 1.3\n",
        "else:\n",
        "  saldo *= 1.4\n",
        "\n",
        "print('Seu saldo é de:',saldo)  "
      ],
      "execution_count": 0,
      "outputs": []
    },
    {
      "cell_type": "code",
      "metadata": {
        "id": "sIQYLuG_vpUC",
        "colab_type": "code",
        "colab": {}
      },
      "source": [
        "###############\n",
        "#\n",
        "# Escreva um programa para calcular a conta final de um hóspede de um hotel, considerando que:\n",
        "#\n",
        "# a) Serão lidos o nome do hóspede, o tipo do apartamento utilizado (A, B, C ou D), o número de\n",
        "# diárias utilizadas pelo hóspede e o valor do consumo interno do hóspede;\n",
        "#\n",
        "# b) O valor da diária é determinado pela seguinte tabela:\n",
        "# Tipo do APTO = A, Valor da Diária = R$ 150,00\n",
        "# Tipo do APTO = B, Valor da Diária = R$ 100,00\n",
        "# Tipo do APTO = C, Valor da Diária = R$ 75,00\n",
        "# Tipo do APTO = D, Valor da Diária = R$ 50,00\n",
        "#\n",
        "# c) O valor total das diárias é calculado pela multiplicação do número de diárias utilizadas pelo\n",
        "# valor da diária;\n",
        "#\n",
        "# d) O subtotal é calculado pela soma do valor total das diárias e o valor do consumo interno;\n",
        "#\n",
        "# e) O valor da taxa de serviço equivale a 10% do subtotal;\n",
        "#\n",
        "# f) O total geral resulta da soma do subtotal com a taxa de serviço.\n",
        "# \n",
        "# O programa deverá mostrar a conta final do hóspede, contendo: o nome do hóspede, o tipo do\n",
        "# apartamento, o número de diárias utilizadas, o valor unitário da diária, o valor total das diárias, o\n",
        "# valor do consumo interno, o subtotal, o valor da taxa de serviço e o total geral.\n",
        "###############\n",
        "nome = input('Digite o nome do hóspede:')\n",
        "tipoAp = input('Qual o tipo do quarto (A,B,C,D):')\n",
        "diarias = int(input('Qual a quantidade de diárias:'))\n",
        "consumo = float(input('Qual foi o consumo interno?'))\n",
        "\n",
        "if tipoAp == 'A':\n",
        "  valorDiaria = 150\n",
        "elif tipoAp == 'B':\n",
        "  valorDiaria = 100\n",
        "elif tipoAp == 'C':\n",
        "  valorDiaria = 75\n",
        "else:\n",
        "  valorDiaria = 50\n",
        "\n",
        "totalDiarias = diarias * valorDiaria\n",
        "subtotal = totalDiarias + consumo\n",
        "taxaServico = subtotal * 0.1  # 10% do valor\n",
        "\n",
        "total = subtotal + taxaServico\n",
        "\n",
        "print()   # Em branco para pular uma linha\n",
        "print('CONTA FINAL')\n",
        "print('Nome do Hóspede:',nome)\n",
        "print('Tipo do Apartamento:',tipoAp)\n",
        "print('Número de diárias:',diarias)\n",
        "print('Valor da diária:',valorDiaria)\n",
        "print('Valor total das diárias:',totalDiarias)\n",
        "print('Consumo interno:',consumo)\n",
        "print('Subtotal:',subtotal)\n",
        "print('Taxa de serviço de 10%')\n",
        "print('TOTAL GERAL:',total)"
      ],
      "execution_count": 0,
      "outputs": []
    }
  ]
}