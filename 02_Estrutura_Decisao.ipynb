{
  "nbformat": 4,
  "nbformat_minor": 0,
  "metadata": {
    "colab": {
      "name": "02-Estrutura_Decisao",
      "provenance": [],
      "include_colab_link": true
    },
    "kernelspec": {
      "name": "python3",
      "display_name": "Python 3"
    }
  },
  "cells": [
    {
      "cell_type": "markdown",
      "metadata": {
        "id": "view-in-github",
        "colab_type": "text"
      },
      "source": [
        "<a href=\"https://colab.research.google.com/github/tmoura/ip/blob/master/02_Estrutura_Decisao.ipynb\" target=\"_parent\"><img src=\"https://colab.research.google.com/assets/colab-badge.svg\" alt=\"Open In Colab\"/></a>"
      ]
    },
    {
      "cell_type": "code",
      "metadata": {
        "id": "BBuniiUntrvd",
        "colab_type": "code",
        "colab": {}
      },
      "source": [
        "nota = 8\n",
        "\n",
        "############\n",
        "# IF-ELSE\n",
        "############\n",
        "\n",
        "if (nota >= 7):\n",
        "  print('Aprovado')\n",
        "else:\n",
        "  print('Reprovado')\n",
        "  \n",
        "### ATENÇÃO: CUIDADO COM OS : (dois pontos)"
      ],
      "execution_count": 0,
      "outputs": []
    },
    {
      "cell_type": "code",
      "metadata": {
        "id": "IXbJrPYoujdE",
        "colab_type": "code",
        "colab": {}
      },
      "source": [
        "##############\n",
        "# IF-ELSE aninhado\n",
        "##############\n",
        "\n",
        "nota = 4\n",
        "\n",
        "if (nota >= 7):\n",
        "  print('Aprovado')\n",
        "else:\n",
        "  if (nota >= 4):\n",
        "    print('Final')\n",
        "  else:\n",
        "    print('Reprovado')"
      ],
      "execution_count": 0,
      "outputs": []
    },
    {
      "cell_type": "code",
      "metadata": {
        "id": "0ICabXFRu_YB",
        "colab_type": "code",
        "colab": {}
      },
      "source": [
        "##############\n",
        "# IF-ELIF-ELSE\n",
        "##############\n",
        "\n",
        "nota = 4\n",
        "\n",
        "if (nota >= 7):\n",
        "  print('Aprovado')\n",
        "elif (nota >= 4):\n",
        "  print('Final')\n",
        "else:\n",
        "  print('Reprovado')"
      ],
      "execution_count": 0,
      "outputs": []
    },
    {
      "cell_type": "code",
      "metadata": {
        "id": "qawhMap3yeV2",
        "colab_type": "code",
        "colab": {}
      },
      "source": [
        "###############\n",
        "#\n",
        "# Escreva um programa que leia um número do teclado e diga se ele é par ou ímpar\n",
        "#\n",
        "###############\n"
      ],
      "execution_count": 0,
      "outputs": []
    },
    {
      "cell_type": "code",
      "metadata": {
        "id": "ueRylowf2huB",
        "colab_type": "code",
        "colab": {}
      },
      "source": [
        "###############\n",
        "#\n",
        "# Escreva um programa que leia três números do teclado e \n",
        "# verifique qual é o maior dos três.\n",
        "#\n",
        "###############\n"
      ],
      "execution_count": 0,
      "outputs": []
    }
  ]
}