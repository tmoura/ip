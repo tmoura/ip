{
  "nbformat": 4,
  "nbformat_minor": 0,
  "metadata": {
    "colab": {
      "name": "02-Estrutura_Decisao",
      "provenance": [],
      "include_colab_link": true
    },
    "kernelspec": {
      "name": "python3",
      "display_name": "Python 3"
    }
  },
  "cells": [
    {
      "cell_type": "markdown",
      "metadata": {
        "id": "view-in-github",
        "colab_type": "text"
      },
      "source": [
        "<a href=\"https://colab.research.google.com/github/tmoura/ip/blob/master/02_Estrutura_Decisao.ipynb\" target=\"_parent\"><img src=\"https://colab.research.google.com/assets/colab-badge.svg\" alt=\"Open In Colab\"/></a>"
      ]
    },
    {
      "cell_type": "code",
      "metadata": {
        "id": "BBuniiUntrvd",
        "colab_type": "code",
        "colab": {}
      },
      "source": [
        "nota = 8\n",
        "\n",
        "############\n",
        "# IF-ELSE\n",
        "############\n",
        "\n",
        "if (nota >= 7):\n",
        "  print('Aprovado')\n",
        "else:\n",
        "  print('Reprovado')\n",
        "  \n",
        "### ATENÇÃO: CUIDADO COM OS : (dois pontos)"
      ],
      "execution_count": 0,
      "outputs": []
    },
    {
      "cell_type": "code",
      "metadata": {
        "id": "IXbJrPYoujdE",
        "colab_type": "code",
        "colab": {}
      },
      "source": [
        "##############\n",
        "# IF-ELSE aninhado\n",
        "##############\n",
        "\n",
        "nota = 4\n",
        "\n",
        "if (nota >= 7):\n",
        "  print('Aprovado')\n",
        "else:\n",
        "  if (nota >= 4):\n",
        "    print('Final')\n",
        "  else:\n",
        "    print('Reprovado')"
      ],
      "execution_count": 0,
      "outputs": []
    },
    {
      "cell_type": "code",
      "metadata": {
        "id": "0ICabXFRu_YB",
        "colab_type": "code",
        "colab": {}
      },
      "source": [
        "##############\n",
        "# IF-ELIF-ELSE\n",
        "##############\n",
        "\n",
        "nota = 4\n",
        "\n",
        "if (nota >= 7):\n",
        "  print('Aprovado')\n",
        "elif (nota >= 4):\n",
        "  print('Final')\n",
        "else:\n",
        "  print('Reprovado')"
      ],
      "execution_count": 0,
      "outputs": []
    },
    {
      "cell_type": "code",
      "metadata": {
        "id": "qawhMap3yeV2",
        "colab_type": "code",
        "colab": {}
      },
      "source": [
        "###############\n",
        "#\n",
        "# Escreva um programa que leia um número do teclado e diga se ele é par ou ímpar\n",
        "#\n",
        "###############\n"
      ],
      "execution_count": 0,
      "outputs": []
    },
    {
      "cell_type": "code",
      "metadata": {
        "id": "ueRylowf2huB",
        "colab_type": "code",
        "colab": {}
      },
      "source": [
        "###############\n",
        "#\n",
        "# Escreva um programa que leia três números do teclado e \n",
        "# verifique qual é o maior dos três.\n",
        "#\n",
        "###############"
      ],
      "execution_count": 0,
      "outputs": []
    },
    {
      "cell_type": "code",
      "metadata": {
        "id": "S654YGfA1y-T",
        "colab_type": "code",
        "colab": {}
      },
      "source": [
        "###############\n",
        "#\n",
        "# Escreva um programa que leia a idade de um nadador e classifique-o em uma das seguintes\n",
        "# categorias:\n",
        "# a) infantil A = 5 a 7 anos\n",
        "# b) infantil B = 8 a 10 anos\n",
        "# c) juvenil A = 11 a 13 anos\n",
        "# d) juvenil B = 14 a 17 anos\n",
        "# e) adulto = maiores de 18 anos\n",
        "#\n",
        "###############"
      ],
      "execution_count": 0,
      "outputs": []
    },
    {
      "cell_type": "code",
      "metadata": {
        "id": "fAdc4TFF1zb9",
        "colab_type": "code",
        "colab": {}
      },
      "source": [
        "###############\n",
        "#\n",
        "# Escreva um programa que leia o peso e a altura de uma pessoa, determine e mostre o seu grau de\n",
        "# obesidade, de acordo com a tabela seguinte. O grau de obesidade é determinado pelo índice de\n",
        "# massa corpórea, cujo cálculo é realizado dividindo-se o peso da pessoa pelo quadrado da sua\n",
        "# altura.\n",
        "#\n",
        "# MASSA < 26, OBESIDADE = Normal\n",
        "# MASSA >= 26 e MASSA < 30, OBESIDADE = Obeso\n",
        "# MASSA >= 30, OBESIDADE = Obeso Móbido\n",
        "###############"
      ],
      "execution_count": 0,
      "outputs": []
    },
    {
      "cell_type": "code",
      "metadata": {
        "id": "BEm98l3_1zot",
        "colab_type": "code",
        "colab": {}
      },
      "source": [
        "###############\n",
        "#\n",
        "# Faça um programa que leia a altura e o sexo (M-masculino, F-feminino) de uma pessoa,\n",
        "# calcule e mostre o seu peso ideal, utilizando uma das seguintes fórmulas:\n",
        "#\n",
        "# para homens: (72.7 * altura) - 58.0\n",
        "# para mulheres: (62.1 * altura) - 44.7\n",
        "###############"
      ],
      "execution_count": 0,
      "outputs": []
    },
    {
      "cell_type": "code",
      "metadata": {
        "id": "X9DW9DDe1zze",
        "colab_type": "code",
        "colab": {}
      },
      "source": [
        "###############\n",
        "#\n",
        "# Escreva um programa que tenha a funcionalidade de uma calculadora simples. O programa\n",
        "# deve solicitar a digitação de dois operandos e um operador (+ - x * / %) e deve imprimir ao\n",
        "# resultado da operação aritmética. Caso o usuário digite um operador inválido, o programa\n",
        "# deve imprimir \"Operador desconhecido\".\n",
        "###############"
      ],
      "execution_count": 0,
      "outputs": []
    },
    {
      "cell_type": "code",
      "metadata": {
        "id": "e3Muw_Fn3sME",
        "colab_type": "code",
        "colab": {}
      },
      "source": [
        "###############\n",
        "#\n",
        "# Escreva um programa que leia quatro notas e imprima a média obtida, desprezando a nota\n",
        "# mais baixa\n",
        "###############"
      ],
      "execution_count": 0,
      "outputs": []
    }
  ]
}