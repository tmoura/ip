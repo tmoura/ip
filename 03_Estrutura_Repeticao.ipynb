{
  "nbformat": 4,
  "nbformat_minor": 0,
  "metadata": {
    "colab": {
      "name": "03-Estrutura_Repeticao.ipynb",
      "provenance": [],
      "include_colab_link": true
    },
    "kernelspec": {
      "name": "python3",
      "display_name": "Python 3"
    }
  },
  "cells": [
    {
      "cell_type": "markdown",
      "metadata": {
        "id": "view-in-github",
        "colab_type": "text"
      },
      "source": [
        "<a href=\"https://colab.research.google.com/github/tmoura/ip/blob/master/03_Estrutura_Repeticao.ipynb\" target=\"_parent\"><img src=\"https://colab.research.google.com/assets/colab-badge.svg\" alt=\"Open In Colab\"/></a>"
      ]
    },
    {
      "cell_type": "code",
      "metadata": {
        "id": "ifyILOFYSm8B",
        "colab_type": "code",
        "colab": {}
      },
      "source": [
        "#########################\n",
        "# Estruturas de Repetição\n",
        "#\n",
        "# Só existe o FOR e WHILE\n",
        "#\n",
        "#########################\n",
        "\n",
        "for i in range(10):\n",
        "  print(i)\n",
        "  \n",
        "\n",
        "# ATENÇÃO: Cuidado com os : (dois pontos)\n",
        "\n",
        "#\n",
        "# range(start,stop,step)\n",
        "#"
      ],
      "execution_count": 0,
      "outputs": []
    },
    {
      "cell_type": "code",
      "metadata": {
        "id": "7SmIWw-DTbNC",
        "colab_type": "code",
        "colab": {}
      },
      "source": [
        "### Exemplo\n",
        "\n",
        "for i in range(20,30,2):\n",
        "  print(i)"
      ],
      "execution_count": 0,
      "outputs": []
    },
    {
      "cell_type": "code",
      "metadata": {
        "id": "Qb_6-2E8ThvS",
        "colab_type": "code",
        "colab": {}
      },
      "source": [
        "#############\n",
        "#\n",
        "# Exercício: Imprimir os números pares de 1 a 100\n",
        "#\n",
        "#############\n"
      ],
      "execution_count": 0,
      "outputs": []
    },
    {
      "cell_type": "code",
      "metadata": {
        "id": "JetIi5sWTu75",
        "colab_type": "code",
        "colab": {}
      },
      "source": [
        "#############\n",
        "#\n",
        "# Exercício: Imprimir os números ímpares de 1 a 100\n",
        "#\n",
        "#############"
      ],
      "execution_count": 0,
      "outputs": []
    },
    {
      "cell_type": "code",
      "metadata": {
        "id": "isurTJn9URi3",
        "colab_type": "code",
        "colab": {}
      },
      "source": [
        "#############\n",
        "#\n",
        "# Exercício: Imprimir os números de 100 a 1\n",
        "#\n",
        "#############\n",
        "\n",
        "for i in range(100,0,-1):\n",
        "  print(i)"
      ],
      "execution_count": 0,
      "outputs": []
    },
    {
      "cell_type": "code",
      "metadata": {
        "id": "KYoNG2GjdMRz",
        "colab_type": "code",
        "colab": {}
      },
      "source": [
        "#############\n",
        "#\n",
        "# Exercício: Escreva um programa que gere e mostre \n",
        "# a sequência 100, 90, 80, 70, ..., 0.\n",
        "#\n",
        "#############\n",
        "\n",
        "### FORMA 1\n",
        "for i in range(100,-1,-1):\n",
        "  if i % 10 == 0:\n",
        "    print(i)\n",
        "\n",
        "\n",
        "### FORMA 2\n",
        "for i in range(100,-1,-10):\n",
        "  print(i)    "
      ],
      "execution_count": 0,
      "outputs": []
    },
    {
      "cell_type": "code",
      "metadata": {
        "id": "pb2_KRJfdX9d",
        "colab_type": "code",
        "colab": {}
      },
      "source": [
        "#############\n",
        "#\n",
        "# Exercício: Escreva um programa que leia vários números, determine e mostre o maior e o menor deles. A\n",
        "# leitura do número zero encerra o programa.\n",
        "#\n",
        "#############"
      ],
      "execution_count": 0,
      "outputs": []
    },
    {
      "cell_type": "code",
      "metadata": {
        "id": "a-SBSeTVdeqJ",
        "colab_type": "code",
        "colab": {}
      },
      "source": [
        "#############\n",
        "#\n",
        "# Exercício: Escreva um programa que gere e mostre os \n",
        "# números múltiplos de 5 entre 1 e 50.\n",
        "#\n",
        "#############\n",
        "for i in range(1,51):\n",
        "  if i % 5 == 0:\n",
        "    print(i)\n",
        "\n",
        "#########\n",
        "print() # Imprimir linha em branco\n",
        "for i in range(5,51,5):\n",
        "    print(i)"
      ],
      "execution_count": 0,
      "outputs": []
    },
    {
      "cell_type": "code",
      "metadata": {
        "id": "KeaM-iNkdp_o",
        "colab_type": "code",
        "colab": {}
      },
      "source": [
        "#############\n",
        "#\n",
        "# Exercício: Escreva um programa que leia um número N, inteiro, e some todos os números de 1 até N,\n",
        "# mostrando o resultado.\n",
        "#\n",
        "#############"
      ],
      "execution_count": 0,
      "outputs": []
    },
    {
      "cell_type": "code",
      "metadata": {
        "id": "mRMZrUhxWp8e",
        "colab_type": "code",
        "colab": {}
      },
      "source": [
        "#############\n",
        "#\n",
        "# Exercício: Escreva um programa que calcule e mostre o fatorial de um número N, fornecido pelo usuário. A\n",
        "# definição de fatorial é mostrada a seguir:\n",
        "#\n",
        "# N! = 1 * 2 * 3 * ... * N-1 * N\n",
        "# 0! = 1\n",
        "#############"
      ],
      "execution_count": 0,
      "outputs": []
    },
    {
      "cell_type": "code",
      "metadata": {
        "id": "069HhGBlYetq",
        "colab_type": "code",
        "colab": {}
      },
      "source": [
        "#############\n",
        "#\n",
        "# Exercício: Escreva um programa que leia o nome de 10 pessoas com suas idades e imprima\n",
        "# o nome e a idade da peessoa mais nova e mais velha!\n",
        "#\n",
        "#############"
      ],
      "execution_count": 0,
      "outputs": []
    },
    {
      "cell_type": "code",
      "metadata": {
        "id": "TVW3jjVDq9Oz",
        "colab_type": "code",
        "colab": {}
      },
      "source": [
        "#############\n",
        "#\n",
        "# Exercício: Considere a expressão: H = 1 + 1/2 + 1/3 + ... + 1/N\n",
        "#\n",
        "# Escreva um programa que calcule o valor de H\n",
        "#\n",
        "#############"
      ],
      "execution_count": 0,
      "outputs": []
    },
    {
      "cell_type": "code",
      "metadata": {
        "id": "OMry3rxHVAHr",
        "colab_type": "code",
        "colab": {}
      },
      "source": [
        "#####################\n",
        "#\n",
        "# WHILE\n",
        "#\n",
        "#####################\n",
        "\n",
        "n = input('Informe um número: ')\n",
        "\n",
        "n = int(n)\n",
        "\n",
        "while (n != 0):\n",
        "  print('O dobro de', n, \"=\", 2 * n)\n",
        "  \n",
        "  n = input('Informe um número: ')\n",
        "\n",
        "  n = int(n)\n",
        "\n",
        "print('O usuario digitou o zero')\n",
        "print('O programa terminou')\n",
        "  \n",
        "# ATENÇÃO: Cuidado com os : (dois pontos)"
      ],
      "execution_count": 0,
      "outputs": []
    },
    {
      "cell_type": "code",
      "metadata": {
        "id": "W7rzsa5HrTOq",
        "colab_type": "code",
        "colab": {}
      },
      "source": [
        "#############\n",
        "# Escreva um programa que leia vários números e diga qual é o maior, \n",
        "# até o usuário digitar 0\n",
        "#############"
      ],
      "execution_count": 0,
      "outputs": []
    },
    {
      "cell_type": "code",
      "metadata": {
        "id": "HcwUrcRbV1Ir",
        "colab_type": "code",
        "colab": {}
      },
      "source": [
        "#####################\n",
        "#\n",
        "# WHILE-ELSE\n",
        "#\n",
        "#####################\n",
        "\n",
        "n = input('Informe um número: ')\n",
        "\n",
        "n = int(n)\n",
        "\n",
        "while (n != 0):\n",
        "  print('O dobro de', n, \"=\", 2 * n)\n",
        "  n = input('Informe um número: ')\n",
        "  n = int(n)\n",
        "else:\n",
        "  print('O usuario digitou o zero')\n",
        "\n",
        "print('O programa terminou')\n",
        "  \n",
        "# ATENÇÃO: Cuidado com os : (dois pontos)"
      ],
      "execution_count": 0,
      "outputs": []
    }
  ]
}