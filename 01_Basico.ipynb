{
  "nbformat": 4,
  "nbformat_minor": 0,
  "metadata": {
    "colab": {
      "name": "01-Exemplos.ipynb",
      "provenance": [],
      "include_colab_link": true
    },
    "kernelspec": {
      "name": "python3",
      "display_name": "Python 3"
    }
  },
  "cells": [
    {
      "cell_type": "markdown",
      "metadata": {
        "id": "view-in-github",
        "colab_type": "text"
      },
      "source": [
        "<a href=\"https://colab.research.google.com/github/tmoura/ip/blob/master/01_Basico.ipynb\" target=\"_parent\"><img src=\"https://colab.research.google.com/assets/colab-badge.svg\" alt=\"Open In Colab\"/></a>"
      ]
    },
    {
      "cell_type": "code",
      "metadata": {
        "id": "68FxQflIdjl7",
        "colab_type": "code",
        "colab": {}
      },
      "source": [
        "####################\n",
        "# Tipos de Variáveis\n",
        "####################\n",
        "\n",
        "i = 10\n",
        "f = 5.0\n",
        "s1 = 'THIAGO'\n",
        "s2 = \"thiago\"\n",
        "b1 = True\n",
        "b2 = False\n",
        "\n",
        "print(s2)"
      ],
      "execution_count": 0,
      "outputs": []
    },
    {
      "cell_type": "code",
      "metadata": {
        "id": "UnCTAPRsh6Bf",
        "colab_type": "code",
        "colab": {}
      },
      "source": [
        "#######################\n",
        "# Operações Aritméticas\n",
        "#######################\n",
        "\n",
        "i = 10\n",
        "\n",
        "# Soma\n",
        "\n",
        "r = i + 5\n",
        "\n",
        "print(r)\n",
        "\n",
        "# Divisão real\n",
        "\n",
        "r = i / 2\n",
        "\n",
        "print(r)\n",
        "\n",
        "# Divisão inteira\n",
        "\n",
        "r = i // 2\n",
        "\n",
        "print(r)\n",
        "\n",
        "# Multiplicação\n",
        "\n",
        "r = i * 2\n",
        "\n",
        "print(r)"
      ],
      "execution_count": 0,
      "outputs": []
    },
    {
      "cell_type": "code",
      "metadata": {
        "id": "asTSl6oyjDDG",
        "colab_type": "code",
        "colab": {}
      },
      "source": [
        "# Potência\n",
        "\n",
        "j = 2\n",
        "r1 = j ** 2\n",
        "\n",
        "print(r1)\n",
        "\n",
        "# Resto da Divisão\n",
        "j = 3\n",
        "r = j % 2\n",
        "\n",
        "print(r)"
      ],
      "execution_count": 0,
      "outputs": []
    },
    {
      "cell_type": "code",
      "metadata": {
        "id": "oCoD8kIsjYSC",
        "colab_type": "code",
        "colab": {}
      },
      "source": [
        "#######################\n",
        "# Operações Relacionais\n",
        "#######################\n",
        "\n",
        "x = 2\n",
        "y = 3\n",
        "\n",
        "print(x > y)\n",
        "print(x < y)\n",
        "print(x >= y)\n",
        "print(x <= y)\n",
        "print(x == y)\n",
        "print(x != y)"
      ],
      "execution_count": 0,
      "outputs": []
    },
    {
      "cell_type": "code",
      "metadata": {
        "id": "0z_RN9qloFF_",
        "colab_type": "code",
        "colab": {}
      },
      "source": [
        "#######################\n",
        "# Operações Lógicos\n",
        "#######################\n",
        "\n",
        "x = 2\n",
        "y = 3\n",
        "\n",
        "r = (x == 2) and (y == 4)\n",
        "print(r)\n",
        "\n",
        "r = (x == 2) or (y == 4)\n",
        "print(r)\n",
        "\n",
        "r = not (x == 2)\n",
        "print(r)\n"
      ],
      "execution_count": 0,
      "outputs": []
    },
    {
      "cell_type": "code",
      "metadata": {
        "id": "BF68b2RsoshT",
        "colab_type": "code",
        "colab": {}
      },
      "source": [
        "#######################\n",
        "# Funções de Entrada\n",
        "#######################\n",
        "\n",
        "x = input('Digite seu nome: ') # Sempre retorna string\n",
        "\n",
        "print('Olá',x)"
      ],
      "execution_count": 0,
      "outputs": []
    },
    {
      "cell_type": "code",
      "metadata": {
        "id": "4ijPr7aKpj7T",
        "colab_type": "code",
        "colab": {}
      },
      "source": [
        "####################\n",
        "# Conversão de Tipos\n",
        "#\n",
        "# int()\n",
        "# float()\n",
        "# str()\n",
        "#\n",
        "####################\n",
        "x = input('Digite um número: ')\n",
        "x = int(x)\n",
        "\n",
        "print(x + 5)\n",
        "\n",
        "x= float(x)\n",
        "print(x + 5)"
      ],
      "execution_count": 0,
      "outputs": []
    },
    {
      "cell_type": "code",
      "metadata": {
        "id": "eEoXLr9iruI2",
        "colab_type": "code",
        "colab": {}
      },
      "source": [
        "###################\n",
        "#\n",
        "# Usando o Print\n",
        "#\n",
        "###################\n",
        "\n",
        "nome = \"João\"\n",
        "idade = 20\n",
        "\n",
        "# Forma 1\n",
        "\n",
        "print('Nome: ', nome, '\\nIdade: ', idade)\n",
        "\n",
        "# Forma 2\n",
        "\n",
        "print('{} tem {} anos'.format(nome,idade))\n",
        "\n",
        "# Forma 3\n",
        "\n",
        "print(f'{nome} tem {idade} anos')"
      ],
      "execution_count": 0,
      "outputs": []
    },
    {
      "cell_type": "code",
      "metadata": {
        "id": "g9AbkWggPrT2",
        "colab_type": "code",
        "colab": {}
      },
      "source": [
        "############\n",
        "#\n",
        "# Ex 1 - Leia dois números e imprima:\n",
        "#\n",
        "# \n",
        "#  A soma entre eles\n",
        "#  A subtração entre eles\n",
        "#  A multiplicação\n",
        "#  A divisão real\n",
        "#  O resto da divisão\n",
        "#  A divisão inteira\n",
        "#\n",
        "############"
      ],
      "execution_count": 0,
      "outputs": []
    },
    {
      "cell_type": "code",
      "metadata": {
        "id": "eSIEdI3EQDm1",
        "colab_type": "code",
        "colab": {}
      },
      "source": [
        "############\n",
        "#\n",
        "# Ex 2 - Leia dois números e imprima o valor verdadeiro ou falso dos resultados a seguir:\n",
        "#\n",
        "# Comparar se numero 1 é maior que numero 2 \n",
        "# Comparar se numero 1 é menor ouu igual que numero 2\n",
        "# Comparar se numero 1 é diferente de numero 2\n",
        "#\n",
        "############"
      ],
      "execution_count": 0,
      "outputs": []
    }
  ]
}